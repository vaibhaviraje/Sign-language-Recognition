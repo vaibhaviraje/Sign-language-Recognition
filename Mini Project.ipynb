{
 "cells": [
  {
   "cell_type": "code",
   "execution_count": 1,
   "id": "a97b2d91",
   "metadata": {},
   "outputs": [],
   "source": [
    "import tensorflow as tf\n",
    "from tensorflow import keras\n",
    "from keras.models import Sequential\n",
    "from keras.layers import Activation, Dense, Flatten, BatchNormalization, Conv2D, MaxPool2D, Dropout,Convolution2D,MaxPooling2D\n",
    "from keras.optimizers import Adam, SGD\n",
    "from keras.metrics import categorical_crossentropy\n",
    "from keras.preprocessing.image import ImageDataGenerator\n",
    "from keras.preprocessing import image\n",
    "from keras.models import Model\n",
    "from keras.applications import imagenet_utils\n",
    "from sklearn.metrics import confusion_matrix\n",
    "import matplotlib.pyplot as plt\n",
    "import warnings\n",
    "import itertools\n",
    "import numpy as np\n",
    "import os\n",
    "import string\n",
    "\n",
    "\n",
    "import cv2\n",
    "%matplotlib inline\n"
   ]
  },
  {
   "cell_type": "markdown",
   "id": "74980be4",
   "metadata": {},
   "source": [
    "# Create Directories of Live Data"
   ]
  },
  {
   "cell_type": "code",
   "execution_count": 2,
   "id": "6706e8ee",
   "metadata": {},
   "outputs": [],
   "source": [
    "import string\n",
    "\n",
    "if not os.path.exists(\"D:\\\\College\\\\Sem 4\\\\Mini Project\\\\Live Data\"):\n",
    "    os.mkdir(\"D:\\\\College\\\\Sem 4\\\\Mini Project\\\\Live Data\")\n",
    "if not os.path.exists(\"D:\\\\College\\\\Sem 4\\\\Mini Project\\\\Live Data\\\\Train\"):\n",
    "    os.mkdir(\"D:\\\\College\\\\Sem 4\\\\Mini Project\\\\Live Data\\\\Train\")\n",
    "if not os.path.exists(\"D:\\\\College\\\\Sem 4\\\\Mini Project\\\\Live Data\\\\Valid\"):\n",
    "    os.mkdir(\"D:\\\\College\\\\Sem 4\\\\Mini Project\\\\Live Data\\\\Valid\")\n",
    "if not os.path.exists(\"D:\\\\College\\\\Sem 4\\\\Mini Project\\\\Live Data\\\\Test\"):\n",
    "    os.mkdir(\"D:\\\\College\\\\Sem 4\\\\Mini Project\\\\Live Data\\\\Test\")\n",
    "    \n",
    "path=\"D:\\\\College\\\\Sem 4\\\\Mini Project\\\\Live Data\"\n",
    "# for i in range(10):\n",
    "#     if not os.path.exists(path +\"\\\\Train\\\\\" +str(i)):\n",
    "#         os.makedirs(path +\"\\\\Train\\\\\" +str(i))\n",
    "#     if not os.path.exists(path +\"\\\\Valid\\\\\" +str(i)):\n",
    "#         os.makedirs(path +\"\\\\Valid\\\\\" +str(i))\n",
    "#     if not os.path.exists(path +\"\\\\Test\\\\\" +str(i)):\n",
    "#         os.makedirs(path +\"\\\\Test\\\\\"+ str(i))\n",
    "\n",
    "for i in string.ascii_uppercase:\n",
    "    if not os.path.exists(path +\"\\\\Train\\\\\" + i):\n",
    "        os.makedirs(path +\"\\\\Train\\\\\" +i)\n",
    "    if not os.path.exists(path +\"\\\\Valid\\\\\"  + i):\n",
    "        os.makedirs(path +\"\\\\Valid\\\\\" +i)\n",
    "    if not os.path.exists(path +\"\\\\Test\\\\\"+ i):\n",
    "        os.makedirs(path +\"\\\\Test\\\\\"+i)"
   ]
  },
  {
   "cell_type": "markdown",
   "id": "50331cf6",
   "metadata": {},
   "source": [
    "# Create Dataset"
   ]
  },
  {
   "cell_type": "code",
   "execution_count": 4,
   "id": "a7dab7c3",
   "metadata": {},
   "outputs": [
    {
     "ename": "TypeError",
     "evalue": "'NoneType' object is not subscriptable",
     "output_type": "error",
     "traceback": [
      "\u001b[1;31m---------------------------------------------------------------------------\u001b[0m",
      "\u001b[1;31mTypeError\u001b[0m                                 Traceback (most recent call last)",
      "Input \u001b[1;32mIn [4]\u001b[0m, in \u001b[0;36m<cell line: 9>\u001b[1;34m()\u001b[0m\n\u001b[0;32m     87\u001b[0m cv2\u001b[38;5;241m.\u001b[39mrectangle(frame, (\u001b[38;5;241m180\u001b[39m\u001b[38;5;241m-\u001b[39m\u001b[38;5;241m1\u001b[39m, \u001b[38;5;241m9\u001b[39m), (\u001b[38;5;241m520\u001b[39m\u001b[38;5;241m+\u001b[39m\u001b[38;5;241m1\u001b[39m, \u001b[38;5;241m411\u001b[39m), (\u001b[38;5;241m255\u001b[39m,\u001b[38;5;241m0\u001b[39m,\u001b[38;5;241m0\u001b[39m) ,\u001b[38;5;241m1\u001b[39m)\n\u001b[0;32m     88\u001b[0m \u001b[38;5;66;03m# Extracting the ROI\u001b[39;00m\n\u001b[1;32m---> 89\u001b[0m roi \u001b[38;5;241m=\u001b[39m \u001b[43mframe\u001b[49m\u001b[43m[\u001b[49m\u001b[38;5;241;43m10\u001b[39;49m\u001b[43m:\u001b[49m\u001b[38;5;241;43m410\u001b[39;49m\u001b[43m,\u001b[49m\u001b[43m \u001b[49m\u001b[38;5;241;43m180\u001b[39;49m\u001b[43m:\u001b[49m\u001b[38;5;241;43m520\u001b[39;49m\u001b[43m]\u001b[49m\n\u001b[0;32m     90\u001b[0m roi \u001b[38;5;241m=\u001b[39m cv2\u001b[38;5;241m.\u001b[39mresize(roi, (\u001b[38;5;241m300\u001b[39m, \u001b[38;5;241m300\u001b[39m))\n\u001b[0;32m     92\u001b[0m cv2\u001b[38;5;241m.\u001b[39mimshow(\u001b[38;5;124m\"\u001b[39m\u001b[38;5;124mFrame\u001b[39m\u001b[38;5;124m\"\u001b[39m, frame)\n",
      "\u001b[1;31mTypeError\u001b[0m: 'NoneType' object is not subscriptable"
     ]
    }
   ],
   "source": [
    "directory=\"D:\\\\College\\\\Sem 4\\\\Mini Project\\\\Live Data\\\\Train\\\\\"\n",
    "directory1=\"D:\\\\College\\\\Sem 4\\\\Mini Project\\\\Live Data\\\\Valid\\\\\"\n",
    "minValue = 70\n",
    "\n",
    "cap = cv2.VideoCapture(0)\n",
    "interrupt = -1  \n",
    "\n",
    "while True:\n",
    "    _, frame = cap.read()\n",
    "    # Simulating mirror image\n",
    "    frame = cv2.flip(frame, 1)\n",
    "    \n",
    "    # Getting count of existing images\n",
    "    count = {\n",
    "             'zero': len(os.listdir(directory1+\"/0\")),\n",
    "#              'one': len(os.listdir(directory+\"/1\")),\n",
    "#              'two': len(os.listdir(directory+\"/2\")),\n",
    "#              'three': len(os.listdir(directory+\"/3\")),\n",
    "#              'four': len(os.listdir(directory+\"/4\")),\n",
    "#              'five': len(os.listdir(directory+\"/5\")),\n",
    "#              'six': len(os.listdir(directory+\"/6\")),\n",
    "#              'seven': len(os.listdir(directory+\"/7\")),\n",
    "#              'eight': len(os.listdir(directory+\"/8\")),\n",
    "#              'nine': len(os.listdir(directory+\"/9\")),\n",
    "             'a': len(os.listdir(directory1+\"/A\")),\n",
    "             'b': len(os.listdir(directory1+\"/B\")),\n",
    "             'c': len(os.listdir(directory1+\"/C\")),\n",
    "             'd': len(os.listdir(directory1+\"/D\")),\n",
    "             'e': len(os.listdir(directory1+\"/E\")),\n",
    "             'f': len(os.listdir(directory1+\"/F\")),\n",
    "             'g': len(os.listdir(directory1+\"/G\")),\n",
    "             'h': len(os.listdir(directory1+\"/H\")),\n",
    "             'i': len(os.listdir(directory1+\"/I\")),\n",
    "             'j': len(os.listdir(directory1+\"/J\")),\n",
    "             'k': len(os.listdir(directory1+\"/K\")),\n",
    "             'l': len(os.listdir(directory1+\"/L\")),\n",
    "             'm': len(os.listdir(directory1+\"/M\")),\n",
    "             'n': len(os.listdir(directory1+\"/N\")),\n",
    "             'o': len(os.listdir(directory1+\"/O\")),\n",
    "             'p': len(os.listdir(directory1+\"/P\")),\n",
    "             'q': len(os.listdir(directory1+\"/Q\")),\n",
    "             'r': len(os.listdir(directory1+\"/R\")),\n",
    "             's': len(os.listdir(directory1+\"/S\")),\n",
    "             't': len(os.listdir(directory1+\"/T\")),\n",
    "             'u': len(os.listdir(directory1+\"/U\")),\n",
    "             'v': len(os.listdir(directory1+\"/V\")),\n",
    "             'w': len(os.listdir(directory1+\"/W\")),\n",
    "             'x': len(os.listdir(directory1+\"/X\")),\n",
    "             'y': len(os.listdir(directory1+\"/Y\")),\n",
    "             'z': len(os.listdir(directory1+\"/Z\"))\n",
    "             }\n",
    "    \n",
    "    # Printing the count in each set to the screen\n",
    "    # cv2.putText(frame, \"MODE : \"+mode, (10, 50), cv2.FONT_HERSHEY_PLAIN, 1, (0,255,255), 1)\n",
    "    # cv2.putText(frame, \"IMAGE COUNT\", (10, ), cv2.FONT_HERSHEY_PLAIN, 1, (0,255,255), 1)\n",
    "    cv2.putText(frame, \"0 : \"+str(count['zero']), (10, 40), cv2.FONT_HERSHEY_PLAIN, 1, (0,255,255), 1)\n",
    "#     cv2.putText(frame, \"1 : \"+str(count['one']), (10, 55), cv2.FONT_HERSHEY_PLAIN, 1, (0,255,255), 1)\n",
    "#     cv2.putText(frame, \"2 : \"+str(count['two']), (10, 70), cv2.FONT_HERSHEY_PLAIN, 1, (0,255,255), 1)\n",
    "#     cv2.putText(frame, \"3 : \"+str(count['three']), (10, 85), cv2.FONT_HERSHEY_PLAIN, 1, (0,255,255), 1)\n",
    "#     cv2.putText(frame, \"4 : \"+str(count['four']), (10, 100), cv2.FONT_HERSHEY_PLAIN, 1, (0,255,255), 1)\n",
    "#     cv2.putText(frame, \"5 : \"+str(count['five']), (10, 115), cv2.FONT_HERSHEY_PLAIN, 1, (0,255,255), 1)\n",
    "#     cv2.putText(frame, \"6 : \"+str(count['six']), (10, 130), cv2.FONT_HERSHEY_PLAIN, 1, (0,255,255), 1)\n",
    "#     cv2.putText(frame, \"7 : \"+str(count['seven']), (10, 145), cv2.FONT_HERSHEY_PLAIN, 1, (0,255,255), 1)\n",
    "#     cv2.putText(frame, \"8 : \"+str(count['eight']), (10, 160), cv2.FONT_HERSHEY_PLAIN, 1, (0,255,255), 1)\n",
    "#     cv2.putText(frame, \"9 : \"+str(count['nine']), (10, 175), cv2.FONT_HERSHEY_PLAIN, 1, (0,255,255), 1)\n",
    "    \n",
    "    letters=[]\n",
    "    for i in string.ascii_lowercase:\n",
    "        letters.append(i)\n",
    "    nums=[]\n",
    "    for i in range (190,190+15*21,15):\n",
    "        nums.append(i)\n",
    "    \n",
    "    for l,n in zip(letters,nums):\n",
    "        cv2.putText(frame, l+\" : \"+str(count[l]), (10, n), cv2.FONT_HERSHEY_PLAIN, 1, (0,255,255), 1)\n",
    "\n",
    "\n",
    "    cv2.putText(frame, \"u : \"+str(count['u']), (75, 40), cv2.FONT_HERSHEY_PLAIN, 1, (0,255,255), 1)\n",
    "    cv2.putText(frame, \"v : \"+str(count['v']), (75, 55), cv2.FONT_HERSHEY_PLAIN, 1, (0,255,255), 1)\n",
    "    cv2.putText(frame, \"w : \"+str(count['w']), (75, 70), cv2.FONT_HERSHEY_PLAIN, 1, (0,255,255), 1)\n",
    "    cv2.putText(frame, \"x : \"+str(count['x']), (75, 85), cv2.FONT_HERSHEY_PLAIN, 1, (0,255,255), 1)\n",
    "    cv2.putText(frame, \"y : \"+str(count['y']), (75, 100), cv2.FONT_HERSHEY_PLAIN, 1, (0,255,255), 1)\n",
    "    cv2.putText(frame, \"z : \"+str(count['z']), (75, 115), cv2.FONT_HERSHEY_PLAIN, 1, (0,255,255), 1)\n",
    "    \n",
    "      # Drawing the ROI\n",
    "    # The increment/decrement by 1 is to compensate for the bounding box\n",
    "    cv2.rectangle(frame, (180-1, 9), (520+1, 411), (255,0,0) ,1)\n",
    "    # Extracting the ROI\n",
    "    roi = frame[10:410, 180:520]\n",
    "    roi = cv2.resize(roi, (300, 300))\n",
    "  \n",
    "    cv2.imshow(\"Frame\", frame)\n",
    "    gray = cv2.cvtColor(roi, cv2.COLOR_BGR2GRAY)\n",
    "    \n",
    "    blur = cv2.GaussianBlur(gray,(5,5),2)\n",
    "    # #blur = cv2.bilateralFilter(roi,9,75,75)\n",
    "   \n",
    "\n",
    "    th3 = cv2.adaptiveThreshold(blur,255,cv2.ADAPTIVE_THRESH_GAUSSIAN_C,cv2.THRESH_BINARY_INV,11,2)\n",
    "    ret, test_image = cv2.threshold(th3, minValue, 255, cv2.THRESH_BINARY_INV+cv2.THRESH_OTSU)\n",
    " \n",
    "    test_image = cv2.resize(test_image, (300,300))\n",
    "    cv2.imshow(\"test\", test_image)\n",
    "    \n",
    "    interrupt = cv2.waitKey(10)\n",
    "    if interrupt & 0xFF == 27: # esc key\n",
    "            break\n",
    "    if interrupt & 0xFF == ord('0'):\n",
    "            cv2.imwrite(directory1+'0/'+str(count['zero'])+'.jpg', roi)\n",
    "#     if interrupt & 0xFF == ord('1'):\n",
    "#         cv2.imwrite(directory+'1/'+str(count['one'])+'.jpg', roi)\n",
    "#     if interrupt & 0xFF == ord('2'):\n",
    "#         cv2.imwrite(directory+'2/'+str(count['two'])+'.jpg', roi)       \n",
    "#     if interrupt & 0xFF == ord('3'):\n",
    "#         cv2.imwrite(directory+'3/'+str(count['three'])+'.jpg', roi)\n",
    "#     if interrupt & 0xFF == ord('4'):\n",
    "#         cv2.imwrite(directory+'4/'+str(count['four'])+'.jpg', roi)\n",
    "#     if interrupt & 0xFF == ord('5'):\n",
    "#         cv2.imwrite(directory+'5/'+str(count['five'])+'.jpg', roi)\n",
    "#     if interrupt & 0xFF == ord('6'):\n",
    "#         cv2.imwrite(directory+'6/'+str(count['six'])+'.jpg', roi)\n",
    "#     if interrupt & 0xFF == ord('7'):\n",
    "#         cv2.imwrite(directory+'7/'+str(count['seven'])+'.jpg', roi)\n",
    "#     if interrupt & 0xFF == ord('8'):\n",
    "#         cv2.imwrite(directory+'8/'+str(count['eight'])+'.jpg', roi)\n",
    "#     if interrupt & 0xFF == ord('9'):\n",
    "#         cv2.imwrite(directory+'9/'+str(count['nine'])+'.jpg', roi)\n",
    "    if interrupt & 0xFF == ord('a'):\n",
    "        cv2.imwrite(directory1+'A/'+str(count['a'])+'.jpg', roi)\n",
    "    if interrupt & 0xFF == ord('b'):\n",
    "        cv2.imwrite(directory1+'B/'+str(count['b'])+'.jpg', roi)\n",
    "    if interrupt & 0xFF == ord('c'):\n",
    "        cv2.imwrite(directory1+'C/'+str(count['c'])+'.jpg', roi)\n",
    "    if interrupt & 0xFF == ord('d'):\n",
    "        cv2.imwrite(directory1+'D/'+str(count['d'])+'.jpg', roi)\n",
    "    if interrupt & 0xFF == ord('e'):\n",
    "        cv2.imwrite(directory1+'E/'+str(count['e'])+'.jpg', roi)\n",
    "    if interrupt & 0xFF == ord('f'):\n",
    "        cv2.imwrite(directory1+'F/'+str(count['f'])+'.jpg', roi)\n",
    "    if interrupt & 0xFF == ord('g'):\n",
    "        cv2.imwrite(directory1+'G/'+str(count['g'])+'.jpg', roi)\n",
    "    if interrupt & 0xFF == ord('h'):\n",
    "        cv2.imwrite(directory1+'H/'+str(count['h'])+'.jpg', roi)\n",
    "    if interrupt & 0xFF == ord('i'):\n",
    "        cv2.imwrite(directory1+'I/'+str(count['i'])+'.jpg', roi)\n",
    "    if interrupt & 0xFF == ord('j'):\n",
    "        cv2.imwrite(directory1+'J/'+str(count['j'])+'.jpg', roi)\n",
    "    if interrupt & 0xFF == ord('k'):\n",
    "        cv2.imwrite(directory1+'K/'+str(count['k'])+'.jpg', roi)\n",
    "    if interrupt & 0xFF == ord('l'):\n",
    "        cv2.imwrite(directory1+'L/'+str(count['l'])+'.jpg', roi)\n",
    "    if interrupt & 0xFF == ord('m'):\n",
    "        cv2.imwrite(directory1+'M/'+str(count['m'])+'.jpg', roi)\n",
    "    if interrupt & 0xFF == ord('n'):\n",
    "        cv2.imwrite(directory1+'N/'+str(count['n'])+'.jpg', roi)\n",
    "    if interrupt & 0xFF == ord('o'):\n",
    "        cv2.imwrite(directory1+'O/'+str(count['o'])+'.jpg', roi)\n",
    "    if interrupt & 0xFF == ord('p'):\n",
    "        cv2.imwrite(directory1+'P/'+str(count['p'])+'.jpg', roi)\n",
    "    if interrupt & 0xFF == ord('q'):\n",
    "        cv2.imwrite(directory1+'Q/'+str(count['q'])+'.jpg', roi)\n",
    "    if interrupt & 0xFF == ord('r'):\n",
    "        cv2.imwrite(directory1+'R/'+str(count['r'])+'.jpg', roi)\n",
    "    if interrupt & 0xFF == ord('s'):\n",
    "        cv2.imwrite(directory1+'S/'+str(count['s'])+'.jpg', roi)\n",
    "    if interrupt & 0xFF == ord('t'):\n",
    "        cv2.imwrite(directory1+'T/'+str(count['t'])+'.jpg', roi)\n",
    "    if interrupt & 0xFF == ord('u'):\n",
    "        cv2.imwrite(directory1+'U/'+str(count['u'])+'.jpg', roi)\n",
    "    if interrupt & 0xFF == ord('v'):\n",
    "        cv2.imwrite(directory1+'V/'+str(count['v'])+'.jpg', roi)\n",
    "    if interrupt & 0xFF == ord('w'):\n",
    "        cv2.imwrite(directory1+'W/'+str(count['w'])+'.jpg', roi)\n",
    "    if interrupt & 0xFF == ord('x'):\n",
    "        cv2.imwrite(directory1+'X/'+str(count['x'])+'.jpg', roi)\n",
    "    if interrupt & 0xFF == ord('y'):\n",
    "        cv2.imwrite(directory1+'Y/'+str(count['y'])+'.jpg', roi)\n",
    "    if interrupt & 0xFF == ord('z'):\n",
    "        cv2.imwrite(directory1+'Z/'+str(count['z'])+'.jpg', roi)        \n",
    "    \n",
    "cap.release()\n",
    "cv2.destroyAllWindows()"
   ]
  },
  {
   "cell_type": "markdown",
   "id": "07e78962",
   "metadata": {},
   "source": [
    "# Process Data"
   ]
  },
  {
   "cell_type": "code",
   "execution_count": null,
   "id": "69f948cc",
   "metadata": {},
   "outputs": [],
   "source": [
    "if not os.path.exists(\"D:\\\\College\\\\Sem 4\\\\Mini Project\\\\Live Data Processed\"):\n",
    "    os.makedirs(\"D:\\\\College\\\\Sem 4\\\\Mini Project\\\\Live Data Processed\")\n",
    "if not os.path.exists(\"D:\\\\College\\\\Sem 4\\\\Mini Project\\\\Live Data Processed\\\\Train\"):\n",
    "    os.makedirs(\"D:\\\\College\\\\Sem 4\\\\Mini Project\\\\Live Data Processed\\\\train\")\n",
    "if not os.path.exists(\"D:\\\\College\\\\Sem 4\\\\Mini Project\\\\Live Data Processed\\\\Valid\"):\n",
    "    os.makedirs(\"D:\\\\College\\\\Sem 4\\\\Mini Project\\\\Live Data Processed\\\\valid\")\n",
    "if not os.path.exists(\"D:\\\\College\\\\Sem 4\\\\Mini Project\\\\Live Data Processed\\\\Test\"):\n",
    "    os.makedirs(\"D:\\\\College\\\\Sem 4\\\\Mini Project\\\\Live Data Processed\\\\test\")"
   ]
  },
  {
   "cell_type": "code",
   "execution_count": null,
   "id": "5c578cab",
   "metadata": {},
   "outputs": [],
   "source": [
    "path=\"D:\\\\College\\\\Sem 4\\\\Mini Project\\\\Live Data\"\n",
    "path1 = \"D:\\\\College\\\\Sem 4\\\\Mini Project\\\\Live Data Processed\"\n",
    "\n",
    "for i in os.listdir(path+\"\\\\Train\"):\n",
    "    if not os.path.exists(path1+\"\\\\Train\\\\\"+i):\n",
    "        os.makedirs(path1+\"\\\\Train\\\\\"+i)\n",
    "        os.makedirs(path1+\"\\\\Valid\\\\\"+i)\n",
    "        #os.makedirs(path1+\"\\\\Test\\\\\"+i)"
   ]
  },
  {
   "cell_type": "code",
   "execution_count": null,
   "id": "182c011f",
   "metadata": {},
   "outputs": [],
   "source": [
    "minValue = 70\n",
    "def func(path):    \n",
    "    frame = cv2.imread(path)\n",
    "    \n",
    "    gray = cv2.cvtColor(frame, cv2.COLOR_BGR2GRAY)\n",
    "    blur = cv2.GaussianBlur(gray,(5,5),2)\n",
    "\n",
    "    th3 = cv2.adaptiveThreshold(blur,255,cv2.ADAPTIVE_THRESH_GAUSSIAN_C,cv2.THRESH_BINARY_INV,11,2)\n",
    "    ret, res = cv2.threshold(th3, minValue, 255, cv2.THRESH_BINARY_INV+cv2.THRESH_OTSU)\n",
    "    return res"
   ]
  },
  {
   "cell_type": "code",
   "execution_count": null,
   "id": "c98bf286",
   "metadata": {},
   "outputs": [],
   "source": [
    "for sets in os.listdir(path):\n",
    "    for dire in os.listdir(path+f'\\\\{sets}'):\n",
    "        for file in os.listdir(path+f'\\\\{sets}\\\\'+f'{dire}'):\n",
    "            orignalpath=path+f'\\\\{sets}\\\\{dire}\\\\{file}'\n",
    "            newpath=path1+f'\\\\{sets}\\\\{dire}\\\\{file}'\n",
    "            img = cv2.imread(orignalpath, 0)\n",
    "            bw_image = func(orignalpath)\n",
    "            cv2.imwrite(newpath, bw_image)"
   ]
  },
  {
   "cell_type": "markdown",
   "id": "e084abea",
   "metadata": {},
   "source": [
    "# Dummy Model"
   ]
  },
  {
   "cell_type": "code",
   "execution_count": 12,
   "id": "c889554d",
   "metadata": {
    "scrolled": true
   },
   "outputs": [
    {
     "name": "stdout",
     "output_type": "stream",
     "text": [
      "Model: \"sequential_2\"\n",
      "_________________________________________________________________\n",
      "Layer (type)                 Output Shape              Param #   \n",
      "=================================================================\n",
      "conv2d_6 (Conv2D)            (None, 62, 62, 32)        896       \n",
      "_________________________________________________________________\n",
      "max_pooling2d_6 (MaxPooling2 (None, 31, 31, 32)        0         \n",
      "_________________________________________________________________\n",
      "conv2d_7 (Conv2D)            (None, 31, 31, 64)        18496     \n",
      "_________________________________________________________________\n",
      "max_pooling2d_7 (MaxPooling2 (None, 15, 15, 64)        0         \n",
      "_________________________________________________________________\n",
      "conv2d_8 (Conv2D)            (None, 13, 13, 128)       73856     \n",
      "_________________________________________________________________\n",
      "max_pooling2d_8 (MaxPooling2 (None, 6, 6, 128)         0         \n",
      "_________________________________________________________________\n",
      "flatten_2 (Flatten)          (None, 4608)              0         \n",
      "_________________________________________________________________\n",
      "dense_8 (Dense)              (None, 64)                294976    \n",
      "_________________________________________________________________\n",
      "dense_9 (Dense)              (None, 128)               8320      \n",
      "_________________________________________________________________\n",
      "dense_10 (Dense)             (None, 128)               16512     \n",
      "_________________________________________________________________\n",
      "dense_11 (Dense)             (None, 26)                3354      \n",
      "=================================================================\n",
      "Total params: 416,410\n",
      "Trainable params: 416,410\n",
      "Non-trainable params: 0\n",
      "_________________________________________________________________\n"
     ]
    }
   ],
   "source": [
    "# Initializing the CNN\n",
    "classifier = Sequential()\n",
    "sz=64\n",
    "# First convolution layer and pooling\n",
    "classifier.add(Convolution2D(32, (3, 3), input_shape=(sz, sz, 3), activation='relu'))\n",
    "classifier.add(MaxPooling2D(pool_size=(2, 2),strides=2))\n",
    "# Second convolution layer and pooling\n",
    "classifier.add(Convolution2D(64, (3, 3), activation='relu', padding = 'same'))\n",
    "# input_shape is going to be the pooled feature maps from the previous convolution layer\n",
    "classifier.add(MaxPooling2D(pool_size=(2, 2),strides=2))\n",
    "classifier.add(Convolution2D(128, (3, 3), activation='relu', padding = 'valid'))\n",
    "# input_shape is going to be the pooled feature maps from the previous convolution layer\n",
    "classifier.add(MaxPooling2D(pool_size=(2, 2), strides=2))\n",
    "\n",
    "# Flattening the layers\n",
    "classifier.add(Flatten())\n",
    "\n",
    "# Adding a fully connected layer\n",
    "classifier.add(Dense(units=64, activation='relu'))\n",
    "#classifier.add(Dropout(0.40))\n",
    "classifier.add(Dense(units=128, activation='relu'))\n",
    "#classifier.add(Dropout(0.40))\n",
    "classifier.add(Dense(units=128, activation='relu'))\n",
    "classifier.add(Dense(units=26, activation='softmax')) # softmax for more than 2\n",
    "\n",
    "\n",
    "# Compiling the CNN\n",
    "classifier.compile(optimizer=Adam(learning_rate=0.001), loss='categorical_crossentropy', metrics=['accuracy']) # categorical_crossentropy for more than 2\n",
    "\n",
    "\n",
    "# Step 2 - Preparing the train/test data and training the model\n",
    "classifier.summary()\n"
   ]
  },
  {
   "cell_type": "code",
   "execution_count": 13,
   "id": "fc57a159",
   "metadata": {},
   "outputs": [
    {
     "name": "stdout",
     "output_type": "stream",
     "text": [
      "Found 13000 images belonging to 26 classes.\n",
      "Found 3900 images belonging to 26 classes.\n",
      "Found 3900 images belonging to 26 classes.\n"
     ]
    }
   ],
   "source": [
    "train_datagen = ImageDataGenerator(preprocessing_function=tf.keras.applications.vgg16.preprocess_input)\n",
    "test_datagen = ImageDataGenerator(preprocessing_function=tf.keras.applications.vgg16.preprocess_input)\n",
    "\n",
    "training_set = train_datagen.flow_from_directory(\"D:\\\\College\\\\Sem 4\\\\Mini Project\\\\Live Data Processed\\\\Train\",target_size=(sz, sz),batch_size=10,class_mode='categorical')\n",
    "valid_set= train_datagen.flow_from_directory(\"D:\\\\College\\\\Sem 4\\\\Mini Project\\\\Live Data Processed\\\\Valid\", target_size=(sz, sz),batch_size=10,class_mode='categorical')\n",
    "                                                 \n",
    "\n",
    "test_set = test_datagen.flow_from_directory(\"D:\\\\College\\\\Sem 4\\\\Mini Project\\\\Live Data Processed\\\\Valid\",target_size=(sz, sz),batch_size=10,class_mode='categorical')\n",
    "                                            "
   ]
  },
  {
   "cell_type": "code",
   "execution_count": 14,
   "id": "1fe9c55c",
   "metadata": {
    "scrolled": true
   },
   "outputs": [
    {
     "name": "stderr",
     "output_type": "stream",
     "text": [
      "Clipping input data to the valid range for imshow with RGB data ([0..1] for floats or [0..255] for integers).\n",
      "Clipping input data to the valid range for imshow with RGB data ([0..1] for floats or [0..255] for integers).\n",
      "Clipping input data to the valid range for imshow with RGB data ([0..1] for floats or [0..255] for integers).\n",
      "Clipping input data to the valid range for imshow with RGB data ([0..1] for floats or [0..255] for integers).\n",
      "Clipping input data to the valid range for imshow with RGB data ([0..1] for floats or [0..255] for integers).\n",
      "Clipping input data to the valid range for imshow with RGB data ([0..1] for floats or [0..255] for integers).\n",
      "Clipping input data to the valid range for imshow with RGB data ([0..1] for floats or [0..255] for integers).\n",
      "Clipping input data to the valid range for imshow with RGB data ([0..1] for floats or [0..255] for integers).\n",
      "Clipping input data to the valid range for imshow with RGB data ([0..1] for floats or [0..255] for integers).\n",
      "Clipping input data to the valid range for imshow with RGB data ([0..1] for floats or [0..255] for integers).\n"
     ]
    },
    {
     "data": {
      "image/png": "[encoded data removed]",
      "text/plain": [
       "<Figure size 2160x1440 with 10 Axes>"
      ]
     },
     "metadata": {
      "needs_background": "light"
     },
     "output_type": "display_data"
    },
    {
     "name": "stdout",
     "output_type": "stream",
     "text": [
      "(10, 64, 64, 3)\n",
      "[[0. 0. 0. 0. 0. 0. 0. 0. 0. 0. 0. 0. 0. 0. 1. 0. 0. 0. 0. 0. 0. 0. 0. 0.\n",
      "  0. 0.]\n",
      " [0. 0. 0. 0. 0. 0. 0. 0. 0. 0. 0. 0. 0. 0. 0. 0. 0. 0. 1. 0. 0. 0. 0. 0.\n",
      "  0. 0.]\n",
      " [0. 0. 0. 1. 0. 0. 0. 0. 0. 0. 0. 0. 0. 0. 0. 0. 0. 0. 0. 0. 0. 0. 0. 0.\n",
      "  0. 0.]\n",
      " [0. 0. 0. 1. 0. 0. 0. 0. 0. 0. 0. 0. 0. 0. 0. 0. 0. 0. 0. 0. 0. 0. 0. 0.\n",
      "  0. 0.]\n",
      " [0. 0. 0. 0. 0. 0. 1. 0. 0. 0. 0. 0. 0. 0. 0. 0. 0. 0. 0. 0. 0. 0. 0. 0.\n",
      "  0. 0.]\n",
      " [0. 0. 0. 0. 1. 0. 0. 0. 0. 0. 0. 0. 0. 0. 0. 0. 0. 0. 0. 0. 0. 0. 0. 0.\n",
      "  0. 0.]\n",
      " [0. 0. 0. 0. 0. 0. 0. 1. 0. 0. 0. 0. 0. 0. 0. 0. 0. 0. 0. 0. 0. 0. 0. 0.\n",
      "  0. 0.]\n",
      " [0. 0. 0. 0. 0. 0. 0. 0. 0. 0. 1. 0. 0. 0. 0. 0. 0. 0. 0. 0. 0. 0. 0. 0.\n",
      "  0. 0.]\n",
      " [0. 0. 0. 0. 0. 0. 0. 0. 0. 0. 0. 0. 0. 0. 0. 0. 0. 0. 0. 0. 0. 0. 0. 0.\n",
      "  0. 1.]\n",
      " [0. 0. 0. 0. 0. 0. 0. 1. 0. 0. 0. 0. 0. 0. 0. 0. 0. 0. 0. 0. 0. 0. 0. 0.\n",
      "  0. 0.]]\n"
     ]
    }
   ],
   "source": [
    "imgs, labels = next(training_set)\n",
    "#Plotting the images...\n",
    "def plotImages(images_arr):\n",
    "    fig, axes = plt.subplots(1, 10, figsize=(30,20))\n",
    "    axes = axes.flatten()\n",
    "    for img, ax in zip( images_arr, axes):\n",
    "        img = cv2.cvtColor(img, cv2.COLOR_BGR2RGB)\n",
    "        ax.imshow(img)\n",
    "        ax.axis('off')\n",
    "    plt.tight_layout()\n",
    "    plt.show()\n",
    "plotImages(imgs)\n",
    "print(imgs.shape)\n",
    "print(labels)"
   ]
  },
  {
   "cell_type": "code",
   "execution_count": 15,
   "id": "06b4c4ff",
   "metadata": {},
   "outputs": [
    {
     "name": "stdout",
     "output_type": "stream",
     "text": [
      "Epoch 1/10\n",
      "1300/1300 [==============================] - 83s 64ms/step - loss: 0.7344 - accuracy: 0.7992 - val_loss: 1.8530 - val_accuracy: 0.7174\n",
      "Epoch 2/10\n",
      "1300/1300 [==============================] - 90s 69ms/step - loss: 0.1241 - accuracy: 0.9642 - val_loss: 2.1690 - val_accuracy: 0.6608\n",
      "Epoch 3/10\n",
      "1300/1300 [==============================] - 92s 71ms/step - loss: 0.1030 - accuracy: 0.9729 - val_loss: 2.8241 - val_accuracy: 0.6418\n",
      "Epoch 4/10\n",
      "1300/1300 [==============================] - 93s 71ms/step - loss: 0.0841 - accuracy: 0.9798 - val_loss: 2.4566 - val_accuracy: 0.7105\n",
      "Epoch 5/10\n",
      "1300/1300 [==============================] - 94s 72ms/step - loss: 0.0867 - accuracy: 0.9787 - val_loss: 2.3855 - val_accuracy: 0.7031\n",
      "Epoch 6/10\n",
      "1300/1300 [==============================] - 99s 76ms/step - loss: 0.0624 - accuracy: 0.9850 - val_loss: 2.3090 - val_accuracy: 0.7495\n",
      "Epoch 7/10\n",
      "1300/1300 [==============================] - 95s 73ms/step - loss: 0.0962 - accuracy: 0.9818 - val_loss: 2.8385 - val_accuracy: 0.6872\n",
      "Epoch 8/10\n",
      "1300/1300 [==============================] - 95s 73ms/step - loss: 0.0657 - accuracy: 0.9883 - val_loss: 2.7580 - val_accuracy: 0.7156\n",
      "Epoch 9/10\n",
      "1300/1300 [==============================] - 95s 73ms/step - loss: 0.0519 - accuracy: 0.9894 - val_loss: 2.6364 - val_accuracy: 0.7438\n",
      "Epoch 10/10\n",
      "1300/1300 [==============================] - 96s 74ms/step - loss: 0.0477 - accuracy: 0.9910 - val_loss: 3.6474 - val_accuracy: 0.7400\n"
     ]
    },
    {
     "data": {
      "text/plain": [
       "<tensorflow.python.keras.callbacks.History at 0x1fcbef94bb0>"
      ]
     },
     "execution_count": 15,
     "metadata": {},
     "output_type": "execute_result"
    }
   ],
   "source": [
    "# Code copied from - https://keras.io/preprocessing/image/\n",
    "from keras.preprocessing.image import ImageDataGenerator\n",
    "\n",
    "\n",
    "classifier.fit(\n",
    "        training_set,\n",
    "        epochs=10,\n",
    "        validation_data=valid_set,\n",
    "        )"
   ]
  },
  {
   "cell_type": "code",
   "execution_count": null,
   "id": "fa17995b",
   "metadata": {},
   "outputs": [],
   "source": [
    "test_labels=test_set.classes"
   ]
  },
  {
   "cell_type": "code",
   "execution_count": null,
   "id": "3e19840e",
   "metadata": {},
   "outputs": [],
   "source": [
    "predictions=classifier.predict(x=test_set,verbose=0)"
   ]
  },
  {
   "cell_type": "code",
   "execution_count": null,
   "id": "588b0f23",
   "metadata": {},
   "outputs": [],
   "source": [
    "cm=confusion_matrix(y_true=test_labels,y_pred=predictions.argmax(axis=1))"
   ]
  },
  {
   "cell_type": "code",
   "execution_count": null,
   "id": "9b28dcba",
   "metadata": {},
   "outputs": [],
   "source": [
    "test_set.class_indices"
   ]
  },
  {
   "cell_type": "code",
   "execution_count": null,
   "id": "083aae0d",
   "metadata": {},
   "outputs": [],
   "source": [
    "def plot_confusion_matrix(cm,classes,normalize=False,title='Confusion Matrix',cmap=plt.cm.Blues):\n",
    "    plt.figure(figsize = (15,10))\n",
    "    plt.imshow(cm,interpolation='nearest',cmap=cmap)\n",
    "    plt.title(title)\n",
    "    plt.colorbar()\n",
    "    tick_marks=np.arange(len(classes))\n",
    "    plt.xticks(tick_marks,classes,rotation=45)\n",
    "    plt.yticks(tick_marks,classes)\n",
    "    \n",
    "    if normalize:\n",
    "        cm=cm.astype('float')/cm.sum(axis=1)[:,np.newaxis]\n",
    "        print(\"Normalized Confusion Matrix\")\n",
    "    else:\n",
    "        print(\"Confusion Matrix without normalization\")\n",
    "    print(cm)\n",
    "    \n",
    "    thresh=cm.max()/2.\n",
    "    for i,j in itertools.product(range(cm.shape[0]),range(cm.shape[1])):\n",
    "        plt.text(j,i,cm[i,j],horizontalalignment=\"center\",color=\"white\" if cm[i,j]>thresh else \"black\")\n",
    "        \n",
    "        plt.tight_layout()\n",
    "        plt.ylabel('True Label')\n",
    "        plt.xlabel('Predicted Label')"
   ]
  },
  {
   "cell_type": "code",
   "execution_count": null,
   "id": "4c298e0a",
   "metadata": {},
   "outputs": [],
   "source": [
    "cm_plot_labels=['A','B','C','D','E','F','G','H','I','J','K','L','M','N','O','P','Q','R','S','T','U','V','W','X','Y','Z']\n",
    "plot_confusion_matrix(cm=cm, classes=cm_plot_labels,title='Confusion Matrix')"
   ]
  },
  {
   "cell_type": "code",
   "execution_count": null,
   "id": "c7a1eea3",
   "metadata": {},
   "outputs": [],
   "source": []
  }
 ],
 "metadata": {
  "kernelspec": {
   "display_name": "Python 3 (ipykernel)",
   "language": "python",
   "name": "python3"
  },
  "language_info": {
   "codemirror_mode": {
    "name": "ipython",
    "version": 3
   },
   "file_extension": ".py",
   "mimetype": "text/x-python",
   "name": "python",
   "nbconvert_exporter": "python",
   "pygments_lexer": "ipython3",
   "version": "3.8.12"
  }
 },
 "nbformat": 4,
 "nbformat_minor": 5
}
